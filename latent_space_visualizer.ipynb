{
 "cells": [
  {
   "cell_type": "markdown",
   "metadata": {},
   "source": [
    "# Latent Space Visualizer\n",
    "\n",
    "This notebook provides a tutorial for using the Latent Space Visualizer. The Latent Space Visualizer is an interactive Python notebook that visualizes the latent space of diffraction images in a synthetic dataset. When the user positions their mouse near a point in the latent space, the corresponding diffraction pattern is shown to the right.\n",
    "\n",
    "<img src=\"figures/Figure1.png\" style=\"width:750px\"/>\n",
    "\n",
    "## Import dependencies\n",
    "\n",
    "We first import the Latent Space Visualizer."
   ]
  },
  {
   "cell_type": "code",
   "execution_count": null,
   "metadata": {
    "colab": {},
    "colab_type": "code",
    "id": "L9E3DwDA-Ojf"
   },
   "outputs": [],
   "source": [
    "#!pip install kora # uncomment when running in Google Colab\n",
    "\n",
    "import latent_space_visualizer\n",
    "\n",
    "latent_space_visualizer.output_notebook()\n"
   ]
  },
  {
   "cell_type": "markdown",
   "metadata": {},
   "source": [
    "## Select a dataset\n",
    "\n",
    "We then select a dataset containing:\n",
    "1. A set of diffraction patterns and associated orientations obtained from simulating a Single Particle Imaging Experiment using [Pysingfel](https://github.com/fredericpoitevin/pysingfel).\n",
    "2. A collection of latent variables obtained from various latent methods (Principal Component Analysis, Diffusion Map, etc.)."
   ]
  },
  {
   "cell_type": "code",
   "execution_count": null,
   "metadata": {
    "colab": {},
    "colab_type": "code",
    "id": "zZXvYi4wKc5V"
   },
   "outputs": [],
   "source": [
    "# Select a dataset\n",
    "dataset_file = \"../{0}/dataset/cspi_synthetic_dataset_diffraction_patterns_{0}_uniform_quat_dataset-size={1}_diffraction-pattern-shape=1024x1040-copy.hdf5\".format(\"3iyf-10K\", 10000)\n",
    "#dataset_file = \"../{0}/dataset/cspi_synthetic_dataset_diffraction_patterns_{0}_uniform_quat_dataset-size={1}_diffraction-pattern-shape=1024x1040-test-copy-mask-1.hdf5\".format(\"3iyf-10K\", 10000)\n",
    "#dataset_file = \"../{0}/dataset/cspi_synthetic_dataset_diffraction_patterns_{0}_uniform_quat_dataset-size={1}_diffraction-pattern-shape=1024x1040-test-copy.hdf5\".format(\"3iyf-10K\", 10000)\n",
    "#dataset_file = \"../{0}/dataset/cspi_synthetic_dataset_diffraction_patterns_{0}_uniform_quat_dataset-size={1}_diffraction-pattern-shape=1024x1040-test-copy-n_shuffles=1.hdf5\".format(\"3iyf-10K\", 10000)\n",
    "# h5_3iyf_10K_mixed_hit_80 = \"../{0}/dataset/cspi_synthetic_dataset_diffraction_patterns_3iyf-10K-mixed-hit_uniform_quat_dataset-size={1}_diffraction-pattern-shape=1024x1040.hdf5\".format(\"3iyf-10K-mixed-hit-80\", 10000)\n",
    "# h5_3iyf_10K_mixed_hit_90 = \"../{0}/dataset/cspi_synthetic_dataset_diffraction_patterns_3iyf-10K-mixed-hit_uniform_quat_dataset-size={1}_diffraction-pattern-shape=1024x1040.hdf5\".format(\"3iyf-10K-mixed-hit-90\", 10000)\n",
    "# h5_3iyf_10K_mixed_hit_95 = \"../{0}/dataset/cspi_synthetic_dataset_diffraction_patterns_3iyf-10K-mixed-hit_uniform_quat_dataset-size={1}_diffraction-pattern-shape=1024x1040.hdf5\".format(\"3iyf-10K-mixed-hit-95\", 10000)\n",
    "# h5_3iyf_10K_mixed_hit_99 = \"../{0}/dataset/cspi_synthetic_dataset_diffraction_patterns_3iyf-10K-mixed-hit_uniform_quat_dataset-size={1}_diffraction-pattern-shape=1024x1040.hdf5\".format(\"3iyf-10K-mixed-hit-99\", 10000)\n",
    "\n",
    "h5_3iyf_10K_mixed_hit_99_single_hits_labeled = \"../{0}/dataset/cspi_synthetic_dataset_diffraction_patterns_3iyf-10K-mixed-hit_uniform_quat_dataset-size={1}_diffraction-pattern-shape=1024x1040.hdf5\".format(\"3iyf-10K-mixed-hit-99-single-hits-labeled\", 10000)\n",
    "h5_3iyf_10K_mixed_hit_99_single_hits_labeled_incremental_pca_latent_space = \"../{0}/dataset/incremental-pca/latent-space-projection-for-downsampled-diffraction-patterns-seen-thus-far-dataset_name={0}-downsampled_shape={2}x{3}-num_diffraction_patterns={1}-batch_size={4}-batch_number_converged={5}.hdf5\".format(\"3iyf-10K-mixed-hit-99-single-hits-labeled\", 10000, 128, 128, 100, 90)\n",
    "\n",
    "h5_3iyf_100K_mixed_hit_99 = \"../{0}/dataset/cspi_synthetic_dataset_diffraction_patterns_3iyf-100K-mixed-hit_uniform_quat_dataset-size={1}_diffraction-pattern-shape=1024x1040.hdf5\".format(\"3iyf-100K-mixed-hit-99\", 100000)\n",
    "h5_3iyf_100K_mixed_hit_99_incremental_pca_latent_space = \"../{0}/dataset/incremental-pca/09-03-20/run-1/latent-space-projection-for-downsampled-diffraction-patterns-seen-thus-far-dataset_name={0}-downsampled_shape={2}x{3}-num_diffraction_patterns={1}-batch_size={4}-batch_number_converged={5}.hdf5\".format(\"3iyf-100K-mixed-hit-99\", 100000, 128, 128, 100, 1000)\n",
    "h5_3iyf_100K_mixed_hit_99_elliptic_envelope_outlier_prediction_mask = \"../{0}/dataset/incremental-pca/09-03-20/run-1/elliptic-envelope-outlier-predictions-for-downsampled-diffraction-patterns-seen-thus-far-dataset_name={0}-downsampled_shape={2}x{3}-num_diffraction_patterns={1}-batch_size={4}-batch_number_converged={5}.hdf5\".format(\"3iyf-100K-mixed-hit-99\", 100000, 128, 128, 100, 1000)\n",
    "\n",
    "h5_3los_10K_mixed_hit_80 = \"../{0}/dataset/cspi_synthetic_dataset_diffraction_patterns_3los-10K-mixed-hit_uniform_quat_dataset-size={1}_diffraction-pattern-shape=1024x1040.hdf5\".format(\"3los-10K-mixed-hit-80\", 10000)\n",
    "h5_3los_10K_mixed_hit_80_incremental_pca_latent_space = \"../{0}/dataset/incremental-pca/09-11-20/run-1/latent-space-projection-for-downsampled-diffraction-patterns-seen-thus-far-dataset_name={0}-downsampled_shape={2}x{3}-num_diffraction_patterns={1}-batch_size={4}-batch_number_converged={5}.hdf5\".format(\"3los-10K-mixed-hit-80\", 10000, 128, 128, 100, 100)\n",
    "h5_3los_10K_mixed_hit_80_elliptic_envelope_outlier_prediction_mask = \"../{0}/dataset/incremental-pca/09-11-20/run-1/elliptic-envelope-outlier-predictions-for-downsampled-diffraction-patterns-seen-thus-far-dataset_name={0}-downsampled_shape={2}x{3}-num_diffraction_patterns={1}-batch_size={4}-batch_number_converged={5}.hdf5\".format(\"3los-10K-mixed-hit-80\", 10000, 128, 128, 100, 100)\n",
    "\n",
    "\n",
    "h5_3los_10K_mixed_hit_90 = \"../{0}/dataset/cspi_synthetic_dataset_diffraction_patterns_3los-10K-mixed-hit_uniform_quat_dataset-size={1}_diffraction-pattern-shape=1024x1040.hdf5\".format(\"3los-10K-mixed-hit-90\", 10000)\n",
    "h5_3los_10K_mixed_hit_90_incremental_pca_latent_space = \"../{0}/dataset/incremental-pca/09-11-20/run-1/latent-space-projection-for-downsampled-diffraction-patterns-seen-thus-far-dataset_name={0}-downsampled_shape={2}x{3}-num_diffraction_patterns={1}-batch_size={4}-batch_number_converged={5}.hdf5\".format(\"3los-10K-mixed-hit-90\", 10000, 128, 128, 100, 100)\n",
    "h5_3los_10K_mixed_hit_90_elliptic_envelope_outlier_prediction_mask = \"../{0}/dataset/incremental-pca/09-11-20/run-1/elliptic-envelope-outlier-predictions-for-downsampled-diffraction-patterns-seen-thus-far-dataset_name={0}-downsampled_shape={2}x{3}-num_diffraction_patterns={1}-batch_size={4}-batch_number_converged={5}.hdf5\".format(\"3los-10K-mixed-hit-90\", 10000, 128, 128, 100, 100)\n",
    "\n",
    "\n",
    "h5_3los_10K_mixed_hit_95 = \"../{0}/dataset/cspi_synthetic_dataset_diffraction_patterns_3los-10K-mixed-hit_uniform_quat_dataset-size={1}_diffraction-pattern-shape=1024x1040.hdf5\".format(\"3los-10K-mixed-hit-95\", 10000)\n",
    "h5_3los_10K_mixed_hit_95_incremental_pca_latent_space = \"../{0}/dataset/incremental-pca/09-11-20/run-1/latent-space-projection-for-downsampled-diffraction-patterns-seen-thus-far-dataset_name={0}-downsampled_shape={2}x{3}-num_diffraction_patterns={1}-batch_size={4}-batch_number_converged={5}.hdf5\".format(\"3los-10K-mixed-hit-95\", 10000, 128, 128, 100, 100)\n",
    "h5_3los_10K_mixed_hit_95_elliptic_envelope_outlier_prediction_mask = \"../{0}/dataset/incremental-pca/09-11-20/run-1/elliptic-envelope-outlier-predictions-for-downsampled-diffraction-patterns-seen-thus-far-dataset_name={0}-downsampled_shape={2}x{3}-num_diffraction_patterns={1}-batch_size={4}-batch_number_converged={5}.hdf5\".format(\"3los-10K-mixed-hit-95\", 10000, 128, 128, 100, 100)\n",
    "\n",
    "\n",
    "h5_3los_10K_mixed_hit_99 = \"../{0}/dataset/cspi_synthetic_dataset_diffraction_patterns_3los-10K-mixed-hit_uniform_quat_dataset-size={1}_diffraction-pattern-shape=1024x1040.hdf5\".format(\"3los-10K-mixed-hit-99\", 10000)\n",
    "h5_3los_10K_mixed_hit_99_incremental_pca_latent_space = \"../{0}/dataset/incremental-pca/09-11-20/run-1/latent-space-projection-for-downsampled-diffraction-patterns-seen-thus-far-dataset_name={0}-downsampled_shape={2}x{3}-num_diffraction_patterns={1}-batch_size={4}-batch_number_converged={5}.hdf5\".format(\"3los-10K-mixed-hit-99\", 10000, 128, 128, 100, 100)\n",
    "h5_3los_10K_mixed_hit_99_elliptic_envelope_outlier_prediction_mask = \"../{0}/dataset/incremental-pca/09-11-20/run-1/elliptic-envelope-outlier-predictions-for-downsampled-diffraction-patterns-seen-thus-far-dataset_name={0}-downsampled_shape={2}x{3}-num_diffraction_patterns={1}-batch_size={4}-batch_number_converged={5}.hdf5\".format(\"3los-10K-mixed-hit-99\", 10000, 128, 128, 100, 100)\n",
    "\n",
    "#h5_3iyf_100K_mixed_hit_99 = \"../{0}/dataset/cspi_synthetic_dataset_diffraction_patterns_3iyf-100K-mixed-hit_uniform_quat_dataset-size={1}_diffraction-pattern-shape=1024x1040.hdf5\".format(\"3iyf-100K-mixed-hit-99\", 100000)\n",
    "h5_3iyf_100K_mixed_hit_99_incremental_pca_latent_space_mse_lsb_1230 = \"../3iyf-100K-mixed-hit-99/dataset/incremental-pca/09-23-20/run-1/batch-1230/latent-space-projection-for-downsampled-diffraction-patterns-seen-thus-far-dataset_name={0}-downsampled_shape={2}x{3}-num_diffraction_patterns={1}-batch_size={4}-batch_number_converged={5}.hdf5\".format(\"3iyf-100K-mixed-hit-99-mse-lsb=1230\", 100000, 128, 128, 10, 1230)\n",
    "h5_3iyf_100K_mixed_hit_99_incremental_pca_latent_space_mse_lsb_1700 = \"../3iyf-100K-mixed-hit-99/dataset/incremental-pca/09-23-20/run-1/batch-1700/latent-space-projection-for-downsampled-diffraction-patterns-seen-thus-far-dataset_name={0}-downsampled_shape={2}x{3}-num_diffraction_patterns={1}-batch_size={4}-batch_number_converged={5}.hdf5\".format(\"3iyf-100K-mixed-hit-99-mse-lsb=1700\", 100000, 128, 128, 10, 1700)\n",
    "#h5_3iyf_100K_mixed_hit_99_elliptic_envelope_outlier_prediction_mask = \"../{0}/dataset/incremental-pca/09-03-20/run-1/elliptic-envelope-outlier-predictions-for-downsampled-diffraction-patterns-seen-thus-far-dataset_name={0}-downsampled_shape={2}x{3}-num_diffraction_patterns={1}-batch_size={4}-batch_number_converged={5}.hdf5\".format(\"3iyf-100K-mixed-hit-99\", 100000, 128, 128, 100, 1000)\n"
   ]
  },
  {
   "cell_type": "markdown",
   "metadata": {},
   "source": [
    "## Visualize the ground truth orientations\n",
    "\n",
    "The azimuth and elevation angles of the particle’s orientations are displayed in a 2D scatter plot. Each point in the scatter plot is colored according to the counter-clockwise rotation about the axis defined by the azimuth and elevation. When the mouse is positioned near a point in the scatter plot, the corresponding real-space XY projection of the particle facing the  beam is displayed to the left of the scatter plot. The beam is assumed to travel in the +Z direction. The respective diffraction image is also displayed to the right of the scatter plot."
   ]
  },
  {
   "cell_type": "code",
   "execution_count": null,
   "metadata": {
    "scrolled": false
   },
   "outputs": [],
   "source": [
    "# Visualize the orientations for the dataset\n",
    "latent_space_visualizer.visualize_orientations(dataset_file, \"diffraction_patterns\",\n",
    "                                  scatter_plot_ref_vector_as_a_list = [1, 0, 0],\n",
    "                                  image_plot_image_source_location=\"slac-pswww\", \n",
    "                                  image_plot_slac_username=\"deebanr\", \n",
    "                                  image_plot_slac_dataset_name=\"3iyf-10K-mixed-hit-99\",\n",
    "                                  image_plot_image_brightness=10.0,\n",
    "                                  real2d_plot_particle_property=\"atomic_coordinates\")\n"
   ]
  },
  {
   "cell_type": "code",
   "execution_count": null,
   "metadata": {},
   "outputs": [],
   "source": [
    "# Visualize the orientations for the dataset\n",
    "latent_space_visualizer.visualize_orientations(dataset_file, \"diffraction_patterns\",\n",
    "                                  scatter_plot_ref_vector_as_a_list = [1, 0, 0],\n",
    "                                  image_plot_image_source_location=\"slac-pswww\", \n",
    "                                  image_plot_slac_username=\"deebanr\", \n",
    "                                  image_plot_slac_dataset_name=\"3iyf-10K-mixed-hit-99\",\n",
    "                                  image_plot_image_brightness=1000.0,\n",
    "                                  real2d_plot_particle_property=\"atomic_coordinates\")\n"
   ]
  },
  {
   "cell_type": "code",
   "execution_count": null,
   "metadata": {},
   "outputs": [],
   "source": [
    "# Visualize the orientations for the dataset\n",
    "latent_space_visualizer.visualize_orientations(h5_3iyf_100K_mixed_hit_99, \"diffraction_patterns\",\n",
    "                                  scatter_plot_ref_vector_as_a_list = [1, 0, 0],\n",
    "                                  image_plot_image_source_location=\"slac-pswww\", \n",
    "                                  image_plot_slac_username=\"deebanr\", \n",
    "                                  image_plot_slac_dataset_name=\"3iyf-100K-mixed-hit-99\",\n",
    "                                  image_plot_image_brightness=10.0,\n",
    "                                  real2d_plot_particle_property=\"atomic_coordinates\")\n"
   ]
  },
  {
   "cell_type": "code",
   "execution_count": null,
   "metadata": {},
   "outputs": [],
   "source": [
    "# Visualize the orientations for the dataset\n",
    "latent_space_visualizer.visualize_orientations(h5_3los_10K_mixed_hit_80, \"diffraction_patterns\",\n",
    "                                  scatter_plot_ref_vector_as_a_list = [1, 0, 0],\n",
    "                                  image_plot_image_source_location=\"slac-pswww\", \n",
    "                                  image_plot_slac_username=\"deebanr\", \n",
    "                                  image_plot_slac_dataset_name=\"3los-10K-mixed-hit-80\",\n",
    "                                  image_plot_image_brightness=10.0,\n",
    "                                  real2d_plot_particle_property=\"atomic_coordinates\")\n"
   ]
  },
  {
   "cell_type": "markdown",
   "metadata": {},
   "source": [
    "## Visualize the latent spaces\n",
    "\n",
    "Two variables of the built latent spaces are displayed in a 2D scatter plot. When the mouse is positioned near a point in the scatter plot, the diffraction image corresponding to that point is displayed to the right of the scatter plot."
   ]
  },
  {
   "cell_type": "markdown",
   "metadata": {},
   "source": [
    "### Principal Component Analysis\n",
    "\n",
    "The first two Principal Components (PCs) are used to plot the latent variables. "
   ]
  },
  {
   "cell_type": "code",
   "execution_count": null,
   "metadata": {},
   "outputs": [],
   "source": [
    "# Visualize the latent space built by PCA\n",
    "latent_space_visualizer.visualize_latent_space(dataset_file, \"diffraction_patterns\", \"principal_component_analysis\",\n",
    "                                               latent_idx_1=1, latent_idx_2=2,\n",
    "                                                  image_plot_image_source_location=\"slac-pswww\", \n",
    "                                                  image_plot_slac_username=\"deebanr\", \n",
    "                                                  image_plot_slac_dataset_name=\"3iyf-10K\",\n",
    "                                                  image_plot_image_brightness=10.0)\n"
   ]
  },
  {
   "cell_type": "markdown",
   "metadata": {},
   "source": [
    "### Diffusion Map\n",
    "\n",
    "The first two Diffusion Coordinates (DCs) are used to plot the latent variables. "
   ]
  },
  {
   "cell_type": "code",
   "execution_count": null,
   "metadata": {},
   "outputs": [],
   "source": [
    "# Visualize the latent space built by Diffusion Map\n",
    "latent_space_visualizer.visualize_latent_space(dataset_file, \"diffraction_patterns\", \"diffusion_map\",\n",
    "                                               latent_idx_1=1, latent_idx_2=2,\n",
    "                                                  image_plot_image_source_location=\"slac-pswww\", \n",
    "                                                  image_plot_slac_username=\"deebanr\", \n",
    "                                                  image_plot_slac_dataset_name=\"3iyf-10K\",\n",
    "                                                  image_plot_image_brightness=10.0)\n"
   ]
  },
  {
   "cell_type": "markdown",
   "metadata": {},
   "source": [
    "### Incremental Principal Component Analysis\n",
    "\n",
    "The first two Principal Components (PCs) are used to plot the latent variables. "
   ]
  },
  {
   "cell_type": "code",
   "execution_count": null,
   "metadata": {},
   "outputs": [],
   "source": [
    "# Visualize the latent space built by Incremental PCA\n",
    "latent_space_visualizer.visualize_latent_space(h5_3iyf_10K_mixed_hit_80, \"diffraction_patterns\", \"incremental_principal_component_analysis\",\n",
    "                                               latent_idx_1=1, latent_idx_2=2,\n",
    "                                                  image_plot_image_source_location=\"slac-pswww\", \n",
    "                                                  image_plot_slac_username=\"deebanr\", \n",
    "                                                  image_plot_slac_dataset_name=\"3iyf-10K-mixed-hit-80\",\n",
    "                                                  image_plot_image_brightness=10.0)"
   ]
  },
  {
   "cell_type": "code",
   "execution_count": null,
   "metadata": {},
   "outputs": [],
   "source": [
    "# Visualize the latent space built by Incremental PCA\n",
    "latent_space_visualizer.visualize_latent_space(h5_3iyf_10K_mixed_hit_90, \"diffraction_patterns\", \"incremental_principal_component_analysis\",\n",
    "                                               latent_idx_1=1, latent_idx_2=2,\n",
    "                                                  image_plot_image_source_location=\"slac-pswww\", \n",
    "                                                  image_plot_slac_username=\"deebanr\", \n",
    "                                                  image_plot_slac_dataset_name=\"3iyf-10K-mixed-hit-90\",\n",
    "                                                  image_plot_image_brightness=10.0)"
   ]
  },
  {
   "cell_type": "code",
   "execution_count": null,
   "metadata": {},
   "outputs": [],
   "source": [
    "# Visualize the latent space built by Incremental PCA\n",
    "latent_space_visualizer.visualize_latent_space(h5_3iyf_10K_mixed_hit_95, \"diffraction_patterns\", \"incremental_principal_component_analysis\",\n",
    "                                               latent_idx_1=1, latent_idx_2=2,\n",
    "                                                  image_plot_image_source_location=\"slac-pswww\", \n",
    "                                                  image_plot_slac_username=\"deebanr\", \n",
    "                                                  image_plot_slac_dataset_name=\"3iyf-10K-mixed-hit-95\",\n",
    "                                                  image_plot_image_brightness=10.0)"
   ]
  },
  {
   "cell_type": "code",
   "execution_count": null,
   "metadata": {},
   "outputs": [],
   "source": [
    "# Visualize the latent space built by Incremental PCA\n",
    "latent_space_visualizer.visualize_latent_space(h5_3iyf_10K_mixed_hit_99, \"diffraction_patterns\", \"incremental_principal_component_analysis\",\n",
    "                                               latent_idx_1=1, latent_idx_2=2,\n",
    "                                                  image_plot_image_source_location=\"slac-pswww\", \n",
    "                                                  image_plot_slac_username=\"deebanr\", \n",
    "                                                  image_plot_slac_dataset_name=\"3iyf-10K-mixed-hit-99\",\n",
    "                                                  image_plot_image_brightness=10.0)"
   ]
  },
  {
   "cell_type": "code",
   "execution_count": null,
   "metadata": {},
   "outputs": [],
   "source": [
    "# Visualize the latent space built by Incremental PCA\n",
    "latent_space_visualizer.visualize_latent_space_for_incremental_principal_component_analysis(\n",
    "                                                h5_3iyf_10K_mixed_hit_99_single_hits_labeled, \n",
    "                                                h5_3iyf_10K_mixed_hit_99_single_hits_labeled_incremental_pca_latent_space, \n",
    "                                                \"diffraction_patterns\",\n",
    "                                                  latent_idx_1=2, latent_idx_2=3,\n",
    "                                                  scatter_plot_type = \"hexbin_colored_by_single_hit_flag\",\n",
    "                                                  image_plot_image_source_location=\"slac-pswww\", \n",
    "                                                  image_plot_slac_username=\"deebanr\", \n",
    "                                                  image_plot_slac_dataset_name=\"3iyf-10K-mixed-hit-99-single-hits-labeled\",\n",
    "                                                  image_plot_image_brightness=10.0)\n"
   ]
  },
  {
   "cell_type": "code",
   "execution_count": null,
   "metadata": {},
   "outputs": [],
   "source": [
    "# Visualize the latent space built by Incremental PCA\n",
    "latent_space_visualizer.visualize_latent_space_for_incremental_principal_component_analysis(\n",
    "                                                h5_3iyf_10K_mixed_hit_99_single_hits_labeled, \n",
    "                                                h5_3iyf_10K_mixed_hit_99_single_hits_labeled_incremental_pca_latent_space, \n",
    "                                                \"diffraction_patterns\",\n",
    "                                                  latent_idx_1=2, latent_idx_2=3,\n",
    "                                                  scatter_plot_type = \"colored_by_single_hit_flag\",\n",
    "                                                  image_plot_image_source_location=\"slac-pswww\", \n",
    "                                                  image_plot_slac_username=\"deebanr\", \n",
    "                                                  image_plot_slac_dataset_name=\"3iyf-10K-mixed-hit-99-single-hits-labeled\",\n",
    "                                                  image_plot_image_brightness=10.0)\n"
   ]
  },
  {
   "cell_type": "code",
   "execution_count": null,
   "metadata": {},
   "outputs": [],
   "source": [
    "# Visualize the latent space built by Incremental PCA\n",
    "latent_space_visualizer.visualize_latent_space_for_incremental_principal_component_analysis(\n",
    "                                                h5_3iyf_10K_mixed_hit_99_single_hits_labeled, \n",
    "                                                h5_3iyf_10K_mixed_hit_99_single_hits_labeled_incremental_pca_latent_space, \n",
    "                                                \"diffraction_patterns\",\n",
    "                                                  latent_idx_1=2, latent_idx_2=3,\n",
    "                                                  scatter_plot_type = \"colored_by_single_hit_flag\",\n",
    "                                                  image_plot_image_source_location=\"slac-pswww\", \n",
    "                                                  image_plot_slac_username=\"deebanr\", \n",
    "                                                  image_plot_slac_dataset_name=\"3iyf-10K-mixed-hit-99-single-hits-labeled\",\n",
    "                                                  image_plot_image_brightness=100.0)\n"
   ]
  },
  {
   "cell_type": "code",
   "execution_count": null,
   "metadata": {},
   "outputs": [],
   "source": [
    "# Visualize the latent space built by Incremental PCA\n",
    "latent_space_visualizer.visualize_latent_space_for_incremental_principal_component_analysis(\n",
    "                                                h5_3iyf_10K_mixed_hit_99_single_hits_labeled, \n",
    "                                                h5_3iyf_10K_mixed_hit_99_single_hits_labeled_incremental_pca_latent_space, \n",
    "                                                \"diffraction_patterns\",\n",
    "                                                  latent_idx_1=2, latent_idx_2=3,\n",
    "                                                  scatter_plot_type = \"colored_by_single_hit_flag\",\n",
    "                                                  image_plot_image_source_location=\"slac-pswww\", \n",
    "                                                  image_plot_slac_username=\"deebanr\", \n",
    "                                                  image_plot_slac_dataset_name=\"3iyf-10K-mixed-hit-99-single-hits-labeled\",\n",
    "                                                  image_plot_image_brightness=1000.0)\n"
   ]
  },
  {
   "cell_type": "code",
   "execution_count": null,
   "metadata": {},
   "outputs": [],
   "source": [
    "# Visualize the latent space built by Incremental PCA\n",
    "latent_space_visualizer.visualize_latent_space_for_incremental_principal_component_analysis(\n",
    "                                                h5_3iyf_100K_mixed_hit_99, \n",
    "                                                h5_3iyf_100K_mixed_hit_99_incremental_pca_latent_space, \n",
    "                                                \"diffraction_patterns\",\n",
    "                                                  latent_idx_1=1, latent_idx_2=2,\n",
    "                                                  scatter_plot_type = \"hexbin_colored_by_single_hit_flag\",\n",
    "                                                  image_plot_image_source_location=\"slac-pswww\", \n",
    "                                                  image_plot_slac_username=\"deebanr\", \n",
    "                                                  image_plot_slac_dataset_name=\"3iyf-100K-mixed-hit-99\",\n",
    "                                                  image_plot_image_brightness=10.0)\n"
   ]
  },
  {
   "cell_type": "code",
   "execution_count": null,
   "metadata": {},
   "outputs": [],
   "source": [
    "# Visualize the latent space built by Incremental PCA\n",
    "latent_space_visualizer.visualize_latent_space_for_incremental_principal_component_analysis(\n",
    "                                                h5_3iyf_100K_mixed_hit_99, \n",
    "                                                h5_3iyf_100K_mixed_hit_99_incremental_pca_latent_space, \n",
    "                                                \"diffraction_patterns\",\n",
    "                                                  latent_idx_1=1, latent_idx_2=2,\n",
    "                                                  scatter_plot_type = \"hexbin_colored_by_single_hit_flag\",\n",
    "                                                  image_plot_image_source_location=\"slac-pswww\", \n",
    "                                                  image_plot_slac_username=\"deebanr\", \n",
    "                                                  image_plot_slac_dataset_name=\"3iyf-100K-mixed-hit-99\",\n",
    "                                                  image_plot_image_brightness=1000.0)\n"
   ]
  },
  {
   "cell_type": "code",
   "execution_count": null,
   "metadata": {},
   "outputs": [],
   "source": [
    "# Visualize the latent space built by Incremental PCA\n",
    "latent_space_visualizer.visualize_latent_space_for_incremental_principal_component_analysis_predicted_by_elliptic_envelope_outlier_prediction(\n",
    "                                                h5_3iyf_100K_mixed_hit_99, \n",
    "                                                h5_3iyf_100K_mixed_hit_99_incremental_pca_latent_space, \n",
    "                                                h5_3iyf_100K_mixed_hit_99_elliptic_envelope_outlier_prediction_mask,\n",
    "                                                \"diffraction_patterns\",\n",
    "                                                  latent_idx_1=1, latent_idx_2=2,\n",
    "                                                  scatter_plot_type = \"hexbin_colored_by_outlier_prediction_label\",\n",
    "                                                  image_plot_image_source_location=\"slac-pswww\", \n",
    "                                                  image_plot_slac_username=\"deebanr\", \n",
    "                                                  image_plot_slac_dataset_name=\"3iyf-100K-mixed-hit-99\",\n",
    "                                                  image_plot_image_brightness=10.0)\n"
   ]
  },
  {
   "cell_type": "code",
   "execution_count": null,
   "metadata": {},
   "outputs": [],
   "source": [
    "# Visualize the latent space built by Incremental PCA\n",
    "latent_space_visualizer.visualize_latent_space_for_incremental_principal_component_analysis_predicted_by_elliptic_envelope_outlier_prediction(\n",
    "                                                h5_3iyf_100K_mixed_hit_99, \n",
    "                                                h5_3iyf_100K_mixed_hit_99_incremental_pca_latent_space, \n",
    "                                                h5_3iyf_100K_mixed_hit_99_elliptic_envelope_outlier_prediction_mask,\n",
    "                                                \"diffraction_patterns\",\n",
    "                                                  latent_idx_1=1, latent_idx_2=3,\n",
    "                                                  scatter_plot_type = \"colored_by_outlier_prediction_label\",\n",
    "                                                  image_plot_image_source_location=\"slac-pswww\", \n",
    "                                                  image_plot_slac_username=\"deebanr\", \n",
    "                                                  image_plot_slac_dataset_name=\"3iyf-100K-mixed-hit-99\",\n",
    "                                                  image_plot_image_brightness=10.0)\n"
   ]
  },
  {
   "cell_type": "code",
   "execution_count": null,
   "metadata": {},
   "outputs": [],
   "source": [
    "# Visualize the latent space built by Incremental PCA\n",
    "latent_space_visualizer.visualize_latent_space_for_incremental_principal_component_analysis_predicted_by_elliptic_envelope_outlier_prediction(\n",
    "                                                h5_3los_10K_mixed_hit_80, \n",
    "                                                h5_3los_10K_mixed_hit_80_incremental_pca_latent_space, \n",
    "                                                h5_3los_10K_mixed_hit_80_elliptic_envelope_outlier_prediction_mask,\n",
    "                                                \"diffraction_patterns\",\n",
    "                                                  latent_idx_1=1, latent_idx_2=2,\n",
    "                                                  scatter_plot_type = \"colored_by_outlier_prediction_label\",\n",
    "                                                  image_plot_image_source_location=\"slac-pswww\", \n",
    "                                                  image_plot_slac_username=\"deebanr\", \n",
    "                                                  image_plot_slac_dataset_name=\"3los-10K-mixed-hit-80\",\n",
    "                                                  image_plot_image_brightness=10.0)\n"
   ]
  },
  {
   "cell_type": "code",
   "execution_count": null,
   "metadata": {},
   "outputs": [],
   "source": [
    "# Visualize the latent space built by Incremental PCA\n",
    "latent_space_visualizer.visualize_latent_space_for_incremental_principal_component_analysis_predicted_by_elliptic_envelope_outlier_prediction(\n",
    "                                                h5_3los_10K_mixed_hit_90, \n",
    "                                                h5_3los_10K_mixed_hit_90_incremental_pca_latent_space, \n",
    "                                                h5_3los_10K_mixed_hit_90_elliptic_envelope_outlier_prediction_mask,\n",
    "                                                \"diffraction_patterns\",\n",
    "                                                  latent_idx_1=1, latent_idx_2=2,\n",
    "                                                  scatter_plot_type = \"colored_by_outlier_prediction_label\",\n",
    "                                                  image_plot_image_source_location=\"slac-pswww\", \n",
    "                                                  image_plot_slac_username=\"deebanr\", \n",
    "                                                  image_plot_slac_dataset_name=\"3los-10K-mixed-hit-90\",\n",
    "                                                  image_plot_image_brightness=10.0)\n"
   ]
  },
  {
   "cell_type": "code",
   "execution_count": null,
   "metadata": {},
   "outputs": [],
   "source": [
    "# Visualize the latent space built by Incremental PCA\n",
    "latent_space_visualizer.visualize_latent_space_for_incremental_principal_component_analysis_predicted_by_elliptic_envelope_outlier_prediction(\n",
    "                                                h5_3los_10K_mixed_hit_95, \n",
    "                                                h5_3los_10K_mixed_hit_95_incremental_pca_latent_space, \n",
    "                                                h5_3los_10K_mixed_hit_95_elliptic_envelope_outlier_prediction_mask,\n",
    "                                                \"diffraction_patterns\",\n",
    "                                                  latent_idx_1=1, latent_idx_2=2,\n",
    "                                                  scatter_plot_type = \"colored_by_outlier_prediction_label\",\n",
    "                                                  image_plot_image_source_location=\"slac-pswww\", \n",
    "                                                  image_plot_slac_username=\"deebanr\", \n",
    "                                                  image_plot_slac_dataset_name=\"3los-10K-mixed-hit-95\",\n",
    "                                                  image_plot_image_brightness=10.0)\n"
   ]
  },
  {
   "cell_type": "code",
   "execution_count": null,
   "metadata": {},
   "outputs": [],
   "source": [
    "# Visualize the latent space built by Incremental PCA\n",
    "latent_space_visualizer.visualize_latent_space_for_incremental_principal_component_analysis_predicted_by_elliptic_envelope_outlier_prediction(\n",
    "                                                h5_3los_10K_mixed_hit_99, \n",
    "                                                h5_3los_10K_mixed_hit_99_incremental_pca_latent_space, \n",
    "                                                h5_3los_10K_mixed_hit_99_elliptic_envelope_outlier_prediction_mask,\n",
    "                                                \"diffraction_patterns\",\n",
    "                                                  latent_idx_1=1, latent_idx_2=2,\n",
    "                                                  scatter_plot_type = \"colored_by_outlier_prediction_label\",\n",
    "                                                  image_plot_image_source_location=\"slac-pswww\", \n",
    "                                                  image_plot_slac_username=\"deebanr\", \n",
    "                                                  image_plot_slac_dataset_name=\"3los-10K-mixed-hit-99\",\n",
    "                                                  image_plot_image_brightness=10.0)\n"
   ]
  },
  {
   "cell_type": "code",
   "execution_count": null,
   "metadata": {},
   "outputs": [],
   "source": [
    "# Visualize the latent space built by Incremental PCA\n",
    "latent_space_visualizer.visualize_latent_space_for_incremental_principal_component_analysis(\n",
    "                                                h5_3iyf_100K_mixed_hit_99, \n",
    "                                                h5_3iyf_100K_mixed_hit_99_incremental_pca_latent_space_mse_lsb_1230, \n",
    "                                                \"diffraction_patterns\",\n",
    "                                                  latent_idx_1=1, latent_idx_2=2,\n",
    "                                                  scatter_plot_type = \"asdf\",\n",
    "                                                  image_plot_image_source_location=\"slac-pswww\", \n",
    "                                                  image_plot_slac_username=\"deebanr\", \n",
    "                                                  image_plot_slac_dataset_name=\"3iyf-100K-mixed-hit-99\",\n",
    "                                                  image_plot_image_brightness=1000.0)\n"
   ]
  },
  {
   "cell_type": "markdown",
   "metadata": {},
   "source": [
    "### Ensemble Principal Component Analysis\n",
    "\n",
    "The first two Principal Components (PCs) are used to plot the latent variables. "
   ]
  },
  {
   "cell_type": "code",
   "execution_count": null,
   "metadata": {},
   "outputs": [],
   "source": [
    "# Visualize the latent space built by Ensemble PCA\n",
    "latent_space_visualizer.visualize_latent_space(dataset_file, \"diffraction_patterns\", \"ensemble_pca\",\n",
    "                                               latent_idx_1=1, latent_idx_2=2,\n",
    "                                                  image_plot_image_source_location=\"slac-pswww\", \n",
    "                                                  image_plot_slac_username=\"deebanr\", \n",
    "                                                  image_plot_slac_dataset_name=\"3iyf-10K\",\n",
    "                                                  image_plot_image_brightness=10.0)"
   ]
  },
  {
   "cell_type": "markdown",
   "metadata": {},
   "source": [
    "### Ensemble Principal Component Analysis using MPI (in progress)\n",
    "\n",
    "The first two Principal Components (PCs) are used to plot the latent variables. "
   ]
  },
  {
   "cell_type": "code",
   "execution_count": null,
   "metadata": {},
   "outputs": [],
   "source": [
    "# Visualize the latent space built by Ensemble PCA - MPI version\n",
    "latent_space_visualizer.visualize_latent_space(dataset_file, \"diffraction_patterns\", \"ensemble_pca_mpi\",\n",
    "                                               latent_idx_1=1, latent_idx_2=2,\n",
    "                                                  image_plot_image_source_location=\"slac-pswww\", \n",
    "                                                  image_plot_slac_username=\"deebanr\", \n",
    "                                                  image_plot_slac_dataset_name=\"3iyf-10K\",\n",
    "                                                  image_plot_image_brightness=10.0,\n",
    "                                                  scatter_plot_type=\"hexbin\")"
   ]
  },
  {
   "cell_type": "code",
   "execution_count": null,
   "metadata": {},
   "outputs": [],
   "source": []
  }
 ],
 "metadata": {
  "kernelspec": {
   "display_name": "Python (latent-space-visualizer)",
   "language": "python",
   "name": "latent-space-visualizer"
  },
  "language_info": {
   "codemirror_mode": {
    "name": "ipython",
    "version": 3
   },
   "file_extension": ".py",
   "mimetype": "text/x-python",
   "name": "python",
   "nbconvert_exporter": "python",
   "pygments_lexer": "ipython3",
   "version": "3.7.8"
  }
 },
 "nbformat": 4,
 "nbformat_minor": 4
}
