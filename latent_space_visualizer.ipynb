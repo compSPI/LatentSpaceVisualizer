{
 "cells": [
  {
   "cell_type": "markdown",
   "metadata": {},
   "source": [
    "# Latent Space Visualizer\n",
    "\n",
    "This notebook provides a tutorial for using the Latent Space Visualizer. The Latent Space Visualizer is an interactive Python notebook that visualizes the latent space of an image dataset. When the mouse is positioned near a point in the scatter plot, the image corresponding to that point is displayed to the side.\n",
    "\n",
    "<img src=\"figures/Figure1.png\" style=\"width:750px\"/>\n",
    "\n",
    "\n",
    "## Import dependencies\n",
    "\n",
    "We first import the Latent Space Visualizer."
   ]
  },
  {
   "cell_type": "code",
   "execution_count": null,
   "metadata": {
    "colab": {},
    "colab_type": "code",
    "id": "L9E3DwDA-Ojf"
   },
   "outputs": [],
   "source": [
    "#!pip install kora # uncomment when running in Google Colab\n",
    "\n",
    "import latent_space_visualizer\n",
    "\n",
    "latent_space_visualizer.output_notebook()\n"
   ]
  },
  {
   "cell_type": "markdown",
   "metadata": {},
   "source": [
    "## Select a dataset\n",
    "\n",
    "We then select a dataset containing:\n",
    "1. A set of diffraction patterns and associated orientations obtained from simulating a Single Particle Imaging Experiment using [Pysingfel](https://github.com/fredericpoitevin/pysingfel).\n",
    "2. A collection of latent variables obtained from various latent methods (Principal Component Analysis, Diffusion Map, etc.)."
   ]
  },
  {
   "cell_type": "code",
   "execution_count": null,
   "metadata": {
    "colab": {},
    "colab_type": "code",
    "id": "zZXvYi4wKc5V"
   },
   "outputs": [],
   "source": [
    "# Path to the dataset\n",
    "dataset_file = \"../{0}/dataset/cspi_synthetic_dataset_diffraction_patterns_{0}_uniform_quat_dataset-size={1}_diffraction-pattern-shape=1024x1040.hdf5\".format(\"3iyf-10K\", 10000)\n"
   ]
  },
  {
   "cell_type": "markdown",
   "metadata": {},
   "source": [
    "## Visualize the ground truth orientations\n",
    "\n",
    "The azimuth and elevation of the ground truth orientations are plotted.\n",
    "\n",
    "The real-space XY projection plot is displayed to the left of the azimuth-elevation plot. Assuming the beam travels in the +Z direction, the real-space XY projection plot faces the beam."
   ]
  },
  {
   "cell_type": "code",
   "execution_count": null,
   "metadata": {
    "scrolled": false
   },
   "outputs": [],
   "source": [
    "# visualize the orientations for the dataset\n",
    "latent_space_visualizer.visualize_orientations(dataset_file, \"diffraction_patterns\",\n",
    "                                  scatter_plot_ref_vector_as_a_list = [1, 0, 0],\n",
    "                                  image_plot_image_source_location=\"slac-pswww\", \n",
    "                                  image_plot_slac_username=\"deebanr\", \n",
    "                                  image_plot_slac_dataset_name=\"3iyf-10K\",\n",
    "                                  image_plot_image_brightness=10.0,\n",
    "                                  real2d_plot_particle_property=\"atomic_coordinates\")\n"
   ]
  },
  {
   "cell_type": "markdown",
   "metadata": {},
   "source": [
    "## Visualize the latent spaces"
   ]
  },
  {
   "cell_type": "markdown",
   "metadata": {},
   "source": [
    "### Principal Component Analysis\n",
    "\n",
    "The first two Principal Components (PCs) are used to plot the latent variables. "
   ]
  },
  {
   "cell_type": "code",
   "execution_count": null,
   "metadata": {},
   "outputs": [],
   "source": [
    "# visualize the latent space for the dataset\n",
    "latent_space_visualizer.visualize_latent_space(dataset_file, \"diffraction_patterns\", \"principal_component_analysis\",\n",
    "                                                  image_plot_image_source_location=\"slac-pswww\", \n",
    "                                                  image_plot_slac_username=\"deebanr\", \n",
    "                                                  image_plot_slac_dataset_name=\"3iyf-10K\",\n",
    "                                                  image_plot_image_brightness=10.0)\n"
   ]
  },
  {
   "cell_type": "markdown",
   "metadata": {},
   "source": [
    "### Diffusion Map\n",
    "\n",
    "The first two Diffusion Coordinates (DCs) are used to plot the latent variables. "
   ]
  },
  {
   "cell_type": "code",
   "execution_count": null,
   "metadata": {},
   "outputs": [],
   "source": [
    "# visualize the latent space for the dataset\n",
    "latent_space_visualizer.visualize_latent_space(dataset_file, \"diffraction_patterns\", \"diffusion_map\",\n",
    "                                                  image_plot_image_source_location=\"slac-pswww\", \n",
    "                                                  image_plot_slac_username=\"deebanr\", \n",
    "                                                  image_plot_slac_dataset_name=\"3iyf-10K\",\n",
    "                                                  image_plot_image_brightness=10.0)\n"
   ]
  },
  {
   "cell_type": "code",
   "execution_count": null,
   "metadata": {},
   "outputs": [],
   "source": []
  }
 ],
 "metadata": {
  "kernelspec": {
   "display_name": "Python (latent-space-visualizer)",
   "language": "python",
   "name": "latent-space-visualizer"
  },
  "language_info": {
   "codemirror_mode": {
    "name": "ipython",
    "version": 3
   },
   "file_extension": ".py",
   "mimetype": "text/x-python",
   "name": "python",
   "nbconvert_exporter": "python",
   "pygments_lexer": "ipython3",
   "version": "3.7.8"
  }
 },
 "nbformat": 4,
 "nbformat_minor": 4
}
