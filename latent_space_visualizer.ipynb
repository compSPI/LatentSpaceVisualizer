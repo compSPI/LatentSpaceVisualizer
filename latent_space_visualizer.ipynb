{
 "cells": [
  {
   "cell_type": "markdown",
   "metadata": {},
   "source": [
    "# Latent Space Visualizer\n",
    "\n",
    "This notebook provides a tutorial for using the Latent Space Visualizer. The Latent Space Visualizer is an interactive Python notebook that visualizes the latent space of diffraction images in a synthetic dataset. When the user positions their mouse near a point in the latent space, the corresponding diffraction pattern is shown to the right.\n",
    "\n",
    "<img src=\"figures/Figure1.png\" style=\"width:750px\"/>\n",
    "\n",
    "## Import dependencies\n",
    "\n",
    "We first import the Latent Space Visualizer."
   ]
  },
  {
   "cell_type": "code",
   "execution_count": null,
   "metadata": {
    "colab": {},
    "colab_type": "code",
    "id": "L9E3DwDA-Ojf"
   },
   "outputs": [],
   "source": [
    "#!pip install kora # uncomment when running in Google Colab\n",
    "\n",
    "import latent_space_visualizer\n",
    "\n",
    "latent_space_visualizer.output_notebook()\n"
   ]
  },
  {
   "cell_type": "markdown",
   "metadata": {},
   "source": [
    "## Select a dataset\n",
    "\n",
    "We then select a dataset containing:\n",
    "1. A set of diffraction patterns and associated orientations obtained from simulating a Single Particle Imaging Experiment using [Pysingfel](https://github.com/fredericpoitevin/pysingfel).\n",
    "2. A collection of latent variables obtained from various latent methods (Principal Component Analysis, Diffusion Map, etc.)."
   ]
  },
  {
   "cell_type": "code",
   "execution_count": null,
   "metadata": {
    "colab": {},
    "colab_type": "code",
    "id": "zZXvYi4wKc5V"
   },
   "outputs": [],
   "source": [
    "# Select a dataset\n",
    "dataset_file = \"../{0}/dataset/cspi_synthetic_dataset_diffraction_patterns_{0}_uniform_quat_dataset-size={1}_diffraction-pattern-shape=1024x1040-copy.hdf5\".format(\"3iyf-10K\", 10000)\n"
   ]
  },
  {
   "cell_type": "markdown",
   "metadata": {},
   "source": [
    "## Visualize the ground truth orientations\n",
    "\n",
    "The azimuth and elevation angles of the particle’s orientations are displayed in a 2D scatter plot. Each point in the scatter plot is colored according to the counter-clockwise rotation about the axis defined by the azimuth and elevation. When the mouse is positioned near a point in the scatter plot, the corresponding real-space XY projection of the particle facing the  beam is displayed to the left of the scatter plot. The beam is assumed to travel in the +Z direction. The respective diffraction image is also displayed to the right of the scatter plot."
   ]
  },
  {
   "cell_type": "code",
   "execution_count": null,
   "metadata": {
    "scrolled": false
   },
   "outputs": [],
   "source": [
    "# Visualize the orientations for the dataset\n",
    "latent_space_visualizer.visualize_orientations(dataset_file, \"diffraction_patterns\",\n",
    "                                  scatter_plot_ref_vector_as_a_list = [1, 0, 0],\n",
    "                                  image_plot_image_source_location=\"slac-pswww\", \n",
    "                                  image_plot_slac_username=\"deebanr\", \n",
    "                                  image_plot_slac_dataset_name=\"3iyf-10K\",\n",
    "                                  image_plot_image_brightness=10.0,\n",
    "                                  real2d_plot_particle_property=\"atomic_coordinates\")\n"
   ]
  },
  {
   "cell_type": "markdown",
   "metadata": {},
   "source": [
    "## Visualize the latent spaces\n",
    "\n",
    "Two variables of the built latent spaces are displayed in a 2D scatter plot. When the mouse is positioned near a point in the scatter plot, the diffraction image corresponding to that point is displayed to the right of the scatter plot."
   ]
  },
  {
   "cell_type": "markdown",
   "metadata": {},
   "source": [
    "### Principal Component Analysis\n",
    "\n",
    "The first two Principal Components (PCs) are used to plot the latent variables. "
   ]
  },
  {
   "cell_type": "code",
   "execution_count": null,
   "metadata": {},
   "outputs": [],
   "source": [
    "# Visualize the latent space built by PCA\n",
    "latent_space_visualizer.visualize_latent_space(dataset_file, \"diffraction_patterns\", \"principal_component_analysis\",\n",
    "                                                  image_plot_image_source_location=\"slac-pswww\", \n",
    "                                                  image_plot_slac_username=\"deebanr\", \n",
    "                                                  image_plot_slac_dataset_name=\"3iyf-10K\",\n",
    "                                                  image_plot_image_brightness=10.0)\n"
   ]
  },
  {
   "cell_type": "markdown",
   "metadata": {},
   "source": [
    "### Diffusion Map\n",
    "\n",
    "The first two Diffusion Coordinates (DCs) are used to plot the latent variables. "
   ]
  },
  {
   "cell_type": "code",
   "execution_count": null,
   "metadata": {},
   "outputs": [],
   "source": [
    "# Visualize the latent space built by Diffusion Map\n",
    "latent_space_visualizer.visualize_latent_space(dataset_file, \"diffraction_patterns\", \"diffusion_map\",\n",
    "                                                  image_plot_image_source_location=\"slac-pswww\", \n",
    "                                                  image_plot_slac_username=\"deebanr\", \n",
    "                                                  image_plot_slac_dataset_name=\"3iyf-10K\",\n",
    "                                                  image_plot_image_brightness=10.0)\n"
   ]
  },
  {
   "cell_type": "markdown",
   "metadata": {},
   "source": [
    "### Incremental Principal Component Analysis\n",
    "\n",
    "The first two Principal Components (PCs) are used to plot the latent variables. "
   ]
  },
  {
   "cell_type": "code",
   "execution_count": null,
   "metadata": {},
   "outputs": [],
   "source": [
    "# Visualize the latent space built by Incremental PCA\n",
    "latent_space_visualizer.visualize_latent_space(dataset_file, \"diffraction_patterns\", \"incremental_principal_component_analysis\",\n",
    "                                                  image_plot_image_source_location=\"slac-pswww\", \n",
    "                                                  image_plot_slac_username=\"deebanr\", \n",
    "                                                  image_plot_slac_dataset_name=\"3iyf-10K\",\n",
    "                                                  image_plot_image_brightness=10.0)"
   ]
  },
  {
   "cell_type": "code",
   "execution_count": null,
   "metadata": {},
   "outputs": [],
   "source": []
  }
 ],
 "metadata": {
  "kernelspec": {
   "display_name": "Python (latent-space-visualizer)",
   "language": "python",
   "name": "latent-space-visualizer"
  },
  "language_info": {
   "codemirror_mode": {
    "name": "ipython",
    "version": 3
   },
   "file_extension": ".py",
   "mimetype": "text/x-python",
   "name": "python",
   "nbconvert_exporter": "python",
   "pygments_lexer": "ipython3",
   "version": "3.7.8"
  }
 },
 "nbformat": 4,
 "nbformat_minor": 4
}
