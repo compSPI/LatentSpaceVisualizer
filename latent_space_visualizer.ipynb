{
 "cells": [
  {
   "cell_type": "markdown",
   "metadata": {},
   "source": [
    "# Latent Space Visualizer\n",
    "\n",
    "This notebook provides a tutorial for using the Latent Space Visualizer. The Latent Space Visualizer is an interactive Python notebook that visualizes the latent space of an image dataset. When the mouse is positioned near a point in the scatter plot, the image corresponding to that point is displayed to the side.\n",
    "\n",
    "<img src=\"figures/Figure1.png\" style=\"width:750px\"/>\n",
    "\n",
    "\n",
    "## Import dependencies\n",
    "\n",
    "We first import the Latent Space Visualizer."
   ]
  },
  {
   "cell_type": "code",
   "execution_count": null,
   "metadata": {
    "colab": {},
    "colab_type": "code",
    "id": "L9E3DwDA-Ojf"
   },
   "outputs": [],
   "source": [
    "#!pip install kora # uncomment when running in Google Colab\n",
    "\n",
    "import latent_space_visualizer\n",
    "\n",
    "latent_space_visualizer.output_notebook()"
   ]
  },
  {
   "cell_type": "markdown",
   "metadata": {},
   "source": [
    "## Select a dataset\n",
    "\n",
    "We then select a dataset containing:\n",
    "1. A set of diffraction patterns obtained from a Single Particle Imaging Experiment Simulation using [Pysingfel](https://github.com/fredericpoitevin/pysingfel).\n",
    "2. A collection of latent variables obtained from various latent methods (Principal Component Analysis, Diffusion Map, etc.)."
   ]
  },
  {
   "cell_type": "code",
   "execution_count": null,
   "metadata": {
    "colab": {},
    "colab_type": "code",
    "id": "zZXvYi4wKc5V"
   },
   "outputs": [],
   "source": [
    "# Path to the 2cex-10K dataset\n",
    "dataset_file = \"../{0}/dataset/cspi_synthetic_dataset_diffraction_patterns_{0}_uniform_quat_dataset-size={1}_diffraction-pattern-shape=1024x1040.hdf5\".format(\"2cex-10K\", 10000)"
   ]
  },
  {
   "cell_type": "markdown",
   "metadata": {},
   "source": [
    "## Visualize the latent spaces"
   ]
  },
  {
   "cell_type": "markdown",
   "metadata": {},
   "source": [
    "### Principal Component Analysis\n",
    "\n",
    "The first two Principal Components (PCs) are used to plot the latent variables. "
   ]
  },
  {
   "cell_type": "code",
   "execution_count": null,
   "metadata": {},
   "outputs": [],
   "source": [
    "# selected latent method\n",
    "latent_method = \"principal_component_analysis\"\n",
    "\n",
    "# the index of the latent variable that corresponds to the first PC\n",
    "latent_idx_1 = 0\n",
    "\n",
    "# the index of the latent variable that corresponds to the second PC\n",
    "latent_idx_2 = 1\n",
    "\n",
    "# visualize the latent space\n",
    "latent_space_visualizer.visualize(dataset_file, \n",
    "                                  image_type, latent_method, \n",
    "                                  latent_idx_1=latent_idx_1, latent_idx_2=latent_idx_2, \n",
    "                                  image_location=image_location, \n",
    "                                  slac_username=slac_username, slac_dataset_name=slac_dataset_name,\n",
    "                                  figure_width=450,\n",
    "                                  figure_height=450,\n",
    "                                  x_axis_label_text_font_size='18pt', \n",
    "                                  y_axis_label_text_font_size='18pt', \n",
    "                                  image_size_scale_factor = 0.88,\n",
    "                                  image_brightness=7.5)"
   ]
  },
  {
   "cell_type": "markdown",
   "metadata": {},
   "source": [
    "### Diffusion Map\n",
    "\n",
    "The first two Diffusion Coordinates (DCs) are used to plot the latent variables. "
   ]
  },
  {
   "cell_type": "code",
   "execution_count": null,
   "metadata": {},
   "outputs": [],
   "source": [
    "# selected latent method\n",
    "latent_method = \"diffusion_map\"\n",
    "\n",
    "# the index of the latent variable that corresponds to the first DC\n",
    "latent_idx_1 = 0\n",
    "\n",
    "# the index of the latent variable that corresponds to the second DC\n",
    "latent_idx_2 = 1\n",
    "\n",
    "# visualize the latent space\n",
    "latent_space_visualizer.visualize(dataset_file, \n",
    "                                  image_type, latent_method, \n",
    "                                  latent_idx_1=latent_idx_1, latent_idx_2=latent_idx_2, \n",
    "                                  image_location=image_location, \n",
    "                                  slac_username=slac_username, slac_dataset_name=slac_dataset_name,\n",
    "                                  figure_width=450,\n",
    "                                  figure_height=450,\n",
    "                                  x_axis_label_text_font_size='18pt', \n",
    "                                  y_axis_label_text_font_size='18pt', \n",
    "                                  image_size_scale_factor = 0.88,\n",
    "                                  image_brightness=7.5)"
   ]
  },
  {
   "cell_type": "markdown",
   "metadata": {},
   "source": [
    "## Visualize the ground truth orientations\n",
    "\n",
    "The azimuth and elevation of the ground truth orientations are plotted.\n",
    "\n",
    "The real-space XY projection plot is displayed to the left of the azimuth-elevation plot. Assuming the beam travels in the +Z direction, the real-space XY projection plot faces the beam."
   ]
  },
  {
   "cell_type": "code",
   "execution_count": null,
   "metadata": {
    "scrolled": false
   },
   "outputs": [],
   "source": [
    "# visualize the latent space for 2cex-1K dataset\n",
    "latent_space_visualizer.visualize(dataset_file, \"diffraction_patterns\", \"orientations\", \n",
    "                                  image_plot_image_source_location=\"slac-pswww\", \n",
    "                                  image_plot_slac_username=\"deebanr\", \n",
    "                                  image_plot_slac_dataset_name=\"2cex-10K\",\n",
    "                                  image_plot_image_brightness=20,\n",
    "                                  real2d_plot_particle_property=\"atomic_coordinates\")\n"
   ]
  },
  {
   "cell_type": "code",
   "execution_count": null,
   "metadata": {},
   "outputs": [],
   "source": []
  }
 ],
 "metadata": {
  "kernelspec": {
   "display_name": "Python (latent-space-visualizer)",
   "language": "python",
   "name": "latent-space-visualizer"
  },
  "language_info": {
   "codemirror_mode": {
    "name": "ipython",
    "version": 3
   },
   "file_extension": ".py",
   "mimetype": "text/x-python",
   "name": "python",
   "nbconvert_exporter": "python",
   "pygments_lexer": "ipython3",
   "version": "3.7.8"
  }
 },
 "nbformat": 4,
 "nbformat_minor": 4
}
